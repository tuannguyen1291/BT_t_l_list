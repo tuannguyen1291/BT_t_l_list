{
  "nbformat": 4,
  "nbformat_minor": 0,
  "metadata": {
    "colab": {
      "provenance": [],
      "authorship_tag": "ABX9TyMlAVhQAunRuvXk/jEdBbdq",
      "include_colab_link": true
    },
    "kernelspec": {
      "name": "python3",
      "display_name": "Python 3"
    },
    "language_info": {
      "name": "python"
    }
  },
  "cells": [
    {
      "cell_type": "markdown",
      "metadata": {
        "id": "view-in-github",
        "colab_type": "text"
      },
      "source": [
        "<a href=\"https://colab.research.google.com/github/tuannguyen1291/BT_t_l_list/blob/main/C%E1%BA%A5u_tr%C3%BAc_set.ipynb\" target=\"_parent\"><img src=\"https://colab.research.google.com/assets/colab-badge.svg\" alt=\"Open In Colab\"/></a>"
      ]
    },
    {
      "cell_type": "markdown",
      "source": [
        "## Câu 1:"
      ],
      "metadata": {
        "id": "GwpcWQsgyZ4A"
      }
    },
    {
      "cell_type": "code",
      "execution_count": 10,
      "metadata": {
        "colab": {
          "base_uri": "https://localhost:8080/"
        },
        "id": "lA99X-PEx7zK",
        "outputId": "54c1bb27-ae9f-4429-ebb2-ff9d1fca89ee"
      },
      "outputs": [
        {
          "output_type": "stream",
          "name": "stdout",
          "text": [
            "{'Thể dục', 'Tiếng Anh chuyên ngành', 'Đại số tuyến tính', 'NNLT Python'}\n",
            "{'Natural Language Processing', 'Tối ưu hóa', 'NNLT Python', 'Học Máy', 'Recommender Systems', 'Học sâu', 'Computer vision', 'Đại số tuyến tính'}\n"
          ]
        }
      ],
      "source": [
        "A = { \"NNLT Python\",\"Đại số tuyến tính\",\"Tiếng Anh chuyên ngành\",\"Thể dục\"}\n",
        "B = { \"NNLT Python\",\"Đại số tuyến tính\",\"Tối ưu hóa\",\"Học Máy\",\"Học sâu\",\"Computer vision\",\"Natural Language Processing\",\"Recommender Systems\"}\n",
        "print(A)\n",
        "print(B)"
      ]
    },
    {
      "cell_type": "markdown",
      "source": [
        "## Câu 2:"
      ],
      "metadata": {
        "id": "vSXnFbpAy3aN"
      }
    },
    {
      "cell_type": "code",
      "source": [
        "print(A)\n",
        "print(B)"
      ],
      "metadata": {
        "colab": {
          "base_uri": "https://localhost:8080/"
        },
        "id": "B-1di6lOy5Bn",
        "outputId": "1c116ad0-b62a-45a3-9ad0-048acd2091d6"
      },
      "execution_count": 6,
      "outputs": [
        {
          "output_type": "stream",
          "name": "stdout",
          "text": [
            "{'Thể dục', 'Tiếng Anh chuyên ngành', 'Đại số tuyến tính', 'NNLT Python'}\n",
            "{'Natural Language Processing', 'Tối ưu hóa', 'NNLT Python', 'Học Máy', 'Recommender Systems', 'Học sâu', 'Computer vision', 'Đại số tuyến tính'}\n"
          ]
        }
      ]
    },
    {
      "cell_type": "markdown",
      "source": [
        "## Câu 3:"
      ],
      "metadata": {
        "id": "qJlEiYwhhRyc"
      }
    },
    {
      "cell_type": "code",
      "source": [
        "y=A|B\n",
        "print(y)"
      ],
      "metadata": {
        "colab": {
          "base_uri": "https://localhost:8080/"
        },
        "id": "gdT1VeFThW9p",
        "outputId": "b3a4fe60-d2fe-4d5b-9053-1fbc947fb762"
      },
      "execution_count": 7,
      "outputs": [
        {
          "output_type": "stream",
          "name": "stdout",
          "text": [
            "{'Thể dục', 'Natural Language Processing', 'Tối ưu hóa', 'NNLT Python', 'Học Máy', 'Recommender Systems', 'Học sâu', 'Computer vision', 'Tiếng Anh chuyên ngành', 'Đại số tuyến tính'}\n"
          ]
        }
      ]
    },
    {
      "cell_type": "markdown",
      "source": [
        "Câu 4:"
      ],
      "metadata": {
        "id": "knFG7mDXlDy6"
      }
    },
    {
      "cell_type": "code",
      "source": [
        "x=A&B\n",
        "print(x)"
      ],
      "metadata": {
        "colab": {
          "base_uri": "https://localhost:8080/"
        },
        "id": "2G5rhlNolEDC",
        "outputId": "147d610f-2501-477a-b7e4-8d4cdd86963c"
      },
      "execution_count": 9,
      "outputs": [
        {
          "output_type": "stream",
          "name": "stdout",
          "text": [
            "{'NNLT Python', 'Đại số tuyến tính'}\n"
          ]
        }
      ]
    },
    {
      "cell_type": "markdown",
      "source": [
        "##Câu 5:"
      ],
      "metadata": {
        "id": "ylwWwce-p2kW"
      }
    },
    {
      "cell_type": "code",
      "source": [
        "X=A^B\n",
        "Y=B^A\n",
        "print(X)\n",
        "print(Y)"
      ],
      "metadata": {
        "colab": {
          "base_uri": "https://localhost:8080/"
        },
        "id": "u8Yn0OF5p4Tr",
        "outputId": "0e472664-6139-48a8-e002-f8b745eb7757"
      },
      "execution_count": 12,
      "outputs": [
        {
          "output_type": "stream",
          "name": "stdout",
          "text": [
            "{'Thể dục', 'Natural Language Processing', 'Tối ưu hóa', 'Học Máy', 'Recommender Systems', 'Học sâu', 'Computer vision', 'Tiếng Anh chuyên ngành'}\n",
            "{'Thể dục', 'Tối ưu hóa', 'Học Máy', 'Recommender Systems', 'Học sâu', 'Computer vision', 'Tiếng Anh chuyên ngành', 'Natural Language Processing'}\n"
          ]
        }
      ]
    },
    {
      "cell_type": "markdown",
      "source": [
        "## Câu 6:"
      ],
      "metadata": {
        "id": "zbVMW47jrBwb"
      }
    },
    {
      "cell_type": "code",
      "source": [
        "x = [1, 1, 1, 2, 2, 3, 3 ,3, 4 ,5 ,6, 7]\n",
        "print(x)"
      ],
      "metadata": {
        "colab": {
          "base_uri": "https://localhost:8080/"
        },
        "id": "2L1zZblqrG58",
        "outputId": "60176804-0860-445d-8a75-e3d19fc95dca"
      },
      "execution_count": 13,
      "outputs": [
        {
          "output_type": "stream",
          "name": "stdout",
          "text": [
            "[1, 1, 1, 2, 2, 3, 3, 3, 4, 5, 6, 7]\n"
          ]
        }
      ]
    },
    {
      "cell_type": "code",
      "source": [
        "x = [1, 1, 1, 2, 2, 3, 3 ,3, 4 ,5 ,6, 7]\n",
        "set(x)\n",
        "print(x)"
      ],
      "metadata": {
        "colab": {
          "base_uri": "https://localhost:8080/"
        },
        "id": "caJt01ltrLa4",
        "outputId": "62a65a29-69da-4df9-b62d-54cf1cd857c4"
      },
      "execution_count": 14,
      "outputs": [
        {
          "output_type": "stream",
          "name": "stdout",
          "text": [
            "[1, 1, 1, 2, 2, 3, 3, 3, 4, 5, 6, 7]\n"
          ]
        }
      ]
    }
  ]
}