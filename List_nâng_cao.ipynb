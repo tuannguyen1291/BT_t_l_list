{
  "nbformat": 4,
  "nbformat_minor": 0,
  "metadata": {
    "colab": {
      "provenance": [],
      "authorship_tag": "ABX9TyPcwcLxehW6U8dyBhN0+teT",
      "include_colab_link": true
    },
    "kernelspec": {
      "name": "python3",
      "display_name": "Python 3"
    },
    "language_info": {
      "name": "python"
    }
  },
  "cells": [
    {
      "cell_type": "markdown",
      "metadata": {
        "id": "view-in-github",
        "colab_type": "text"
      },
      "source": [
        "<a href=\"https://colab.research.google.com/github/tuannguyen1291/BT_t_l_list/blob/main/List_n%C3%A2ng_cao.ipynb\" target=\"_parent\"><img src=\"https://colab.research.google.com/assets/colab-badge.svg\" alt=\"Open In Colab\"/></a>"
      ]
    },
    {
      "cell_type": "markdown",
      "source": [
        "## Câu 1"
      ],
      "metadata": {
        "id": "2Ae9V3bnrhXz"
      }
    },
    {
      "cell_type": "code",
      "execution_count": null,
      "metadata": {
        "colab": {
          "base_uri": "https://localhost:8080/"
        },
        "id": "BFw44xI4rdSN",
        "outputId": "761c1efc-98c0-47fb-8b11-615b61282384"
      },
      "outputs": [
        {
          "output_type": "stream",
          "name": "stdout",
          "text": [
            "Nhập vào n: 6\n",
            "[1, 2, 3, 4, 5, 6]\n"
          ]
        }
      ],
      "source": [
        "#List nhập từ bàn phím\n",
        "n=abs(int(input(\"Nhập vào n: \")))\n",
        "A=[]\n",
        "for i in range(1,n+1):\n",
        "  A.append(i)\n",
        "print(A)"
      ]
    },
    {
      "cell_type": "markdown",
      "source": [
        "##Câu 2:"
      ],
      "metadata": {
        "id": "Hp-saNuNHT04"
      }
    },
    {
      "cell_type": "code",
      "source": [
        "#Tính cộng list\n",
        "n = abs(int(input(\"Nhập vào n: \")))\n",
        "A = []\n",
        "for i in range(1,n+1):\n",
        "  A.append(i)\n",
        "print(A)\n",
        "tong = 0\n",
        "for v in A:\n",
        "  tong=tong+v\n",
        "print(tong)"
      ],
      "metadata": {
        "colab": {
          "base_uri": "https://localhost:8080/"
        },
        "id": "6lQboAudNsuB",
        "outputId": "185f6608-7382-4b4f-b65e-4bda1153ded6"
      },
      "execution_count": null,
      "outputs": [
        {
          "output_type": "stream",
          "name": "stdout",
          "text": [
            "Nhập vào n: 6\n",
            "[1, 2, 3, 4, 5, 6]\n",
            "21\n"
          ]
        }
      ]
    },
    {
      "cell_type": "code",
      "source": [
        "#Tính nhân list\n",
        "n = abs(int(input(\"Nhập vào n: \")))\n",
        "A = []\n",
        "for i in range(1,n+1):\n",
        "  A.append(i)\n",
        "print(A)\n",
        "tich = 1\n",
        "for v in A:\n",
        "  tich=tich*v\n",
        "print(tich)"
      ],
      "metadata": {
        "colab": {
          "base_uri": "https://localhost:8080/"
        },
        "id": "sc5u2Bn2YTiR",
        "outputId": "b9d961c5-f28b-429e-e937-7c9bbcb468c9"
      },
      "execution_count": null,
      "outputs": [
        {
          "output_type": "stream",
          "name": "stdout",
          "text": [
            "Nhập vào n: 6\n",
            "[1, 2, 3, 4, 5, 6]\n",
            "720\n"
          ]
        }
      ]
    },
    {
      "cell_type": "markdown",
      "source": [
        "##Câu 3:"
      ],
      "metadata": {
        "id": "3uuMEoikYQE5"
      }
    },
    {
      "cell_type": "code",
      "source": [
        "#sắp xếp list theo trái sang phải\n",
        "n = abs(int(input(\"Nhập vào n: \")))\n",
        "A=[]\n",
        "for i in range(1,n+1):\n",
        "  A.append(i)\n",
        "A.sort()\n",
        "print(A)"
      ],
      "metadata": {
        "colab": {
          "base_uri": "https://localhost:8080/"
        },
        "id": "1aMtPXwSb2fc",
        "outputId": "1d362c8b-0324-4ef4-c0ee-9572a67c1d8e"
      },
      "execution_count": null,
      "outputs": [
        {
          "output_type": "stream",
          "name": "stdout",
          "text": [
            "Nhập vào n: 6\n",
            "[1, 2, 3, 4, 5, 6]\n"
          ]
        }
      ]
    },
    {
      "cell_type": "code",
      "source": [
        "#Sắp xếp list từ phải sang trái\n",
        "n = abs(int(input(\"Nhập vào n: \")))\n",
        "A=[]\n",
        "for i in range(1,n+1):\n",
        "  A.append(i)\n",
        "A.reverse()\n",
        "print(A)"
      ],
      "metadata": {
        "colab": {
          "base_uri": "https://localhost:8080/"
        },
        "id": "Md9p_XsBb9Qj",
        "outputId": "b4dee893-67c7-42c2-c903-429aa0a68564"
      },
      "execution_count": null,
      "outputs": [
        {
          "output_type": "stream",
          "name": "stdout",
          "text": [
            "Nhập vào n: 6\n",
            "[6, 5, 4, 3, 2, 1]\n"
          ]
        }
      ]
    },
    {
      "cell_type": "markdown",
      "source": [
        "##Câu 4:"
      ],
      "metadata": {
        "id": "BJ-1ZjkCstms"
      }
    },
    {
      "cell_type": "code",
      "source": [
        "#Kiểm tra chỉ số list\n",
        "n=abs(int(input(\"Nhập vào n: \")))\n",
        "x1=abs(int(input(\"Nhập vào x1: \")))\n",
        "x2=abs(int(input(\"Nhập vào x2: \")))\n",
        "A=[]\n",
        "for i in range(1,n+1):\n",
        "  A.append(i)\n",
        "print(A)\n",
        "if x1 in A:\n",
        "  if x2 in A:\n",
        "    print(\"Chương trình có \",\"x1 =\",x1,\"x2 =\",x2)\n",
        "  elif x1 in A:\n",
        "    print(\"Chương trình có \",\"x1 =\",x1)\n",
        "elif x2 in A:\n",
        "   print(\"Chương trình có: \",\"x2 = \",x2)\n",
        "else:\n",
        "  print(\"Không có list thỏa mãn\")\n",
        "#Hoán vị hai vị trí\n",
        "x1,x2=x2,x1\n",
        "print(\"Giá trị phần tử hoán vị: \",\"x1 = \",x1,\" x2 = \",x2)"
      ],
      "metadata": {
        "id": "Lz4IBh62s0uw",
        "colab": {
          "base_uri": "https://localhost:8080/"
        },
        "outputId": "51a85b0d-08b2-4da8-c11d-f66040b1a6ab"
      },
      "execution_count": null,
      "outputs": [
        {
          "output_type": "stream",
          "name": "stdout",
          "text": [
            "Nhập vào n: 8\n",
            "Nhập vào x1: 5\n",
            "Nhập vào x2: 6\n",
            "[1, 2, 3, 4, 5, 6, 7, 8]\n",
            "Chương trình có  x1 = 5 x2 = 6\n",
            "Giá trị phần tử hoán vị:  x1 =  6  x2 =  5\n"
          ]
        }
      ]
    },
    {
      "cell_type": "markdown",
      "source": [
        "##Câu 5:"
      ],
      "metadata": {
        "id": "UZ6RVv9Cv5Ux"
      }
    },
    {
      "cell_type": "code",
      "source": [
        "x=abs(int(input(\"Nhập giá trị dương: \")))\n",
        "n=abs(int(input(\"Nhap n: \")))\n",
        "E=[random.randint(-10,10) for i in range(1,n+1)]\n",
        "print(E)\n",
        "for i in range(len(E)):\n",
        "  if E[i]==x:\n",
        "   print(\"Phần tử thứ :\",E[i],\"vị trí thứ :\",i+1,\"trong list\")\n",
        "  else:\n",
        "   print(\"phần tử thứ:\",E[i],\"không thỏa mãn\")\n"
      ],
      "metadata": {
        "id": "mjOZ-B6QvD6t",
        "colab": {
          "base_uri": "https://localhost:8080/"
        },
        "outputId": "c5f9f75b-4da8-49c9-ced6-5ad774cebe17"
      },
      "execution_count": 39,
      "outputs": [
        {
          "output_type": "stream",
          "name": "stdout",
          "text": [
            "Nhập giá trị dương: 6\n",
            "Nhap n: 10\n",
            "[-9, 6, -9, -7, 3, -10, -5, 10, -7, -3]\n",
            "phần tử thứ: -9 không thỏa mãn\n",
            "Phần tử thứ : 6 vị trí thứ : 2 trong list\n",
            "phần tử thứ: -9 không thỏa mãn\n",
            "phần tử thứ: -7 không thỏa mãn\n",
            "phần tử thứ: 3 không thỏa mãn\n",
            "phần tử thứ: -10 không thỏa mãn\n",
            "phần tử thứ: -5 không thỏa mãn\n",
            "phần tử thứ: 10 không thỏa mãn\n",
            "phần tử thứ: -7 không thỏa mãn\n",
            "phần tử thứ: -3 không thỏa mãn\n"
          ]
        }
      ]
    },
    {
      "cell_type": "code",
      "source": [
        "import random\n",
        "x=abs(int(input(\"Nhập giá trị dương: \")))\n",
        "n=abs(int(input(\"Nhap n: \")))\n",
        "E=[random.randint(-10,10) for i in range(1,n+1)]\n",
        "print(E)\n",
        "for i in range(len(E)):\n",
        "  if E[i]>x:\n",
        "   print(\"Phần tử thứ :\",E[i],\"vị trí thứ :\",i+1,\"trong list\")\n",
        "  else:\n",
        "   print(\"phần tử thứ:\",E[i],\"không thỏa mãn\")"
      ],
      "metadata": {
        "colab": {
          "base_uri": "https://localhost:8080/"
        },
        "id": "Ggbq-YAjHR8T",
        "outputId": "1f5a0023-6e4b-4ea0-fe10-e78003fdcab5"
      },
      "execution_count": null,
      "outputs": [
        {
          "output_type": "stream",
          "name": "stdout",
          "text": [
            "Nhập giá trị dương: 6\n",
            "Nhap n: 10\n",
            "[3, -2, 6, -9, -4, -7, -10, 9, -3, -4]\n",
            "phần tử thứ: 3 không thỏa mãn\n",
            "phần tử thứ: -2 không thỏa mãn\n",
            "phần tử thứ: 6 không thỏa mãn\n",
            "phần tử thứ: -9 không thỏa mãn\n",
            "phần tử thứ: -4 không thỏa mãn\n",
            "phần tử thứ: -7 không thỏa mãn\n",
            "phần tử thứ: -10 không thỏa mãn\n",
            "Phần tử thứ : 9 vị trí thứ : 8 trong list\n",
            "phần tử thứ: -3 không thỏa mãn\n",
            "phần tử thứ: -4 không thỏa mãn\n"
          ]
        }
      ]
    },
    {
      "cell_type": "code",
      "source": [
        "import random\n",
        "x=abs(int(input(\"Nhập giá trị dương: \")))\n",
        "n=abs(int(input(\"Nhap n: \")))\n",
        "E=[random.randint(-10,10) for i in range(1,n+1)]\n",
        "print(E)\n",
        "for i in range(len(E)):\n",
        "  if E[i]<x:\n",
        "   print(\"Phần tử thứ :\",E[i],\"vị trí thứ :\",i+1,\"trong list\")\n",
        "  else:\n",
        "   print(\"Phần tử thứ:\",E[i],\"không thỏa mãn\")"
      ],
      "metadata": {
        "colab": {
          "base_uri": "https://localhost:8080/"
        },
        "id": "dSsewmKIUgg-",
        "outputId": "9a955bc1-bd53-44eb-e956-c75ad16a2889"
      },
      "execution_count": null,
      "outputs": [
        {
          "output_type": "stream",
          "name": "stdout",
          "text": [
            "Nhập giá trị dương: 6\n",
            "Nhap n: 11\n",
            "[0, -10, -1, -4, -2, -4, 9, -10, 4, 7, 7]\n",
            "Phần tử thứ : 0 vị trí thứ : 1 trong list\n",
            "Phần tử thứ : -10 vị trí thứ : 2 trong list\n",
            "Phần tử thứ : -1 vị trí thứ : 3 trong list\n",
            "Phần tử thứ : -4 vị trí thứ : 4 trong list\n",
            "Phần tử thứ : -2 vị trí thứ : 5 trong list\n",
            "Phần tử thứ : -4 vị trí thứ : 6 trong list\n",
            "Phần tử thứ: 9 không thỏa mãn\n",
            "Phần tử thứ : -10 vị trí thứ : 8 trong list\n",
            "Phần tử thứ : 4 vị trí thứ : 9 trong list\n",
            "Phần tử thứ: 7 không thỏa mãn\n",
            "Phần tử thứ: 7 không thỏa mãn\n"
          ]
        }
      ]
    }
  ]
}