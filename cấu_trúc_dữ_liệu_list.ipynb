{
  "nbformat": 4,
  "nbformat_minor": 0,
  "metadata": {
    "colab": {
      "provenance": [],
      "authorship_tag": "ABX9TyMihA5uXJG0bUslrxpy8y3K",
      "include_colab_link": true
    },
    "kernelspec": {
      "name": "python3",
      "display_name": "Python 3"
    },
    "language_info": {
      "name": "python"
    }
  },
  "cells": [
    {
      "cell_type": "markdown",
      "metadata": {
        "id": "view-in-github",
        "colab_type": "text"
      },
      "source": [
        "<a href=\"https://colab.research.google.com/github/tuannguyen1291/BT_t_l_list/blob/main/c%E1%BA%A5u_tr%C3%BAc_d%E1%BB%AF_li%E1%BB%87u_list.ipynb\" target=\"_parent\"><img src=\"https://colab.research.google.com/assets/colab-badge.svg\" alt=\"Open In Colab\"/></a>"
      ]
    },
    {
      "cell_type": "markdown",
      "source": [
        "## Câu 1: Tạo kiểu list rỗng"
      ],
      "metadata": {
        "id": "lA47X28meWCK"
      }
    },
    {
      "cell_type": "code",
      "execution_count": 70,
      "metadata": {
        "colab": {
          "base_uri": "https://localhost:8080/"
        },
        "id": "RJHBa-mJdZeP",
        "outputId": "78ef3535-df3e-4505-8b2e-04b584c51444"
      },
      "outputs": [
        {
          "output_type": "stream",
          "name": "stdout",
          "text": [
            "[]\n"
          ]
        }
      ],
      "source": [
        "#Tạo x rỗng\n",
        "x=[]\n",
        "print(x)"
      ]
    },
    {
      "cell_type": "markdown",
      "source": [
        "## Câu 2: "
      ],
      "metadata": {
        "id": "JWrc8S4inLVm"
      }
    },
    {
      "cell_type": "code",
      "source": [
        "x.append(18)\n",
        "print(x)"
      ],
      "metadata": {
        "colab": {
          "base_uri": "https://localhost:8080/"
        },
        "id": "zP8zdcVInLnk",
        "outputId": "fe5a8b58-1720-4c8d-8127-fdd9a86cc27a"
      },
      "execution_count": 71,
      "outputs": [
        {
          "output_type": "stream",
          "name": "stdout",
          "text": [
            "[18]\n"
          ]
        }
      ]
    },
    {
      "cell_type": "markdown",
      "source": [
        "## Câu 3:"
      ],
      "metadata": {
        "id": "RE8hvclunYjZ"
      }
    },
    {
      "cell_type": "code",
      "source": [
        "x.append(\"Huế\")\n",
        "print(x)"
      ],
      "metadata": {
        "colab": {
          "base_uri": "https://localhost:8080/"
        },
        "id": "AKp8SKg2nakJ",
        "outputId": "c7d0041e-f0f3-424f-c186-5c13d5accb1b"
      },
      "execution_count": 72,
      "outputs": [
        {
          "output_type": "stream",
          "name": "stdout",
          "text": [
            "[18, 'Huế']\n"
          ]
        }
      ]
    },
    {
      "cell_type": "markdown",
      "source": [
        "## Câu 4"
      ],
      "metadata": {
        "id": "Gza7YE2Ankk_"
      }
    },
    {
      "cell_type": "code",
      "source": [
        "y=[12,45,-1,-0.56,\"abc\"]\n",
        "print(y)"
      ],
      "metadata": {
        "colab": {
          "base_uri": "https://localhost:8080/"
        },
        "id": "h8YEdUXanmsI",
        "outputId": "dd3ce5d8-afa9-44b7-d711-977d128f40ba"
      },
      "execution_count": 73,
      "outputs": [
        {
          "output_type": "stream",
          "name": "stdout",
          "text": [
            "[12, 45, -1, -0.56, 'abc']\n"
          ]
        }
      ]
    },
    {
      "cell_type": "markdown",
      "source": [
        "## Câu 5: "
      ],
      "metadata": {
        "id": "wostQMTAnr9S"
      }
    },
    {
      "cell_type": "code",
      "source": [
        "x.append(12)\n",
        "x.append(45)\n",
        "x.append(-1)\n",
        "x.append(-0.56)\n",
        "x.append('abc')\n",
        "print(x)"
      ],
      "metadata": {
        "colab": {
          "base_uri": "https://localhost:8080/"
        },
        "id": "DcN821Lhnv77",
        "outputId": "eec99d4e-6a1d-45dc-9e6a-0308268671a9"
      },
      "execution_count": 74,
      "outputs": [
        {
          "output_type": "stream",
          "name": "stdout",
          "text": [
            "[18, 'Huế', 12, 45, -1, -0.56, 'abc']\n"
          ]
        }
      ]
    },
    {
      "cell_type": "markdown",
      "source": [
        "## Câu 6:"
      ],
      "metadata": {
        "id": "vfk2sqcDn49Z"
      }
    },
    {
      "cell_type": "code",
      "source": [
        "print(x)"
      ],
      "metadata": {
        "colab": {
          "base_uri": "https://localhost:8080/"
        },
        "id": "i7G8wFvzn9mK",
        "outputId": "991da8bb-5e19-44ae-ca2e-c5cb5251e28d"
      },
      "execution_count": 50,
      "outputs": [
        {
          "output_type": "stream",
          "name": "stdout",
          "text": [
            "[18, 'Huế']\n"
          ]
        }
      ]
    },
    {
      "cell_type": "markdown",
      "source": [
        "## Câu 7:"
      ],
      "metadata": {
        "id": "qseqo46yoChj"
      }
    },
    {
      "cell_type": "code",
      "source": [
        "print(x[1])\n",
        "print(x[6])"
      ],
      "metadata": {
        "colab": {
          "base_uri": "https://localhost:8080/"
        },
        "id": "uXFInHnGoEQg",
        "outputId": "4e47e5a5-6f09-4f03-951b-3abe75f80d3b"
      },
      "execution_count": 78,
      "outputs": [
        {
          "output_type": "stream",
          "name": "stdout",
          "text": [
            "Huế\n",
            "abc\n"
          ]
        }
      ]
    },
    {
      "cell_type": "markdown",
      "source": [
        "## Câu 8:"
      ],
      "metadata": {
        "id": "nMKnrd2QqMXn"
      }
    },
    {
      "cell_type": "code",
      "source": [
        "print(x[1:6])"
      ],
      "metadata": {
        "colab": {
          "base_uri": "https://localhost:8080/"
        },
        "id": "PIJIQeLWqO4j",
        "outputId": "8ba1dfe1-7d7a-41a2-babd-6009f671fc74"
      },
      "execution_count": 80,
      "outputs": [
        {
          "output_type": "stream",
          "name": "stdout",
          "text": [
            "['Huế', 12, 45, -1, -0.56]\n"
          ]
        }
      ]
    },
    {
      "cell_type": "markdown",
      "source": [
        "##Câu 9:"
      ],
      "metadata": {
        "id": "RVpaNUV_rqrF"
      }
    },
    {
      "cell_type": "code",
      "source": [
        "print(x[2:7])"
      ],
      "metadata": {
        "colab": {
          "base_uri": "https://localhost:8080/"
        },
        "id": "IOixSLfErslP",
        "outputId": "765bf41a-5a22-4e45-a61a-630ba117b788"
      },
      "execution_count": 83,
      "outputs": [
        {
          "output_type": "stream",
          "name": "stdout",
          "text": [
            "[12, 45, -1, -0.56, 'abc']\n"
          ]
        }
      ]
    }
  ]
}