{
  "nbformat": 4,
  "nbformat_minor": 0,
  "metadata": {
    "colab": {
      "provenance": [],
      "authorship_tag": "ABX9TyNGpcCfV/qjnseRRAUXw6i4",
      "include_colab_link": true
    },
    "kernelspec": {
      "name": "python3",
      "display_name": "Python 3"
    },
    "language_info": {
      "name": "python"
    }
  },
  "cells": [
    {
      "cell_type": "markdown",
      "metadata": {
        "id": "view-in-github",
        "colab_type": "text"
      },
      "source": [
        "<a href=\"https://colab.research.google.com/github/tuannguyen1291/BT_t_l_list/blob/main/C%E1%BA%A5u_tr%C3%BAc_Tuple.ipynb\" target=\"_parent\"><img src=\"https://colab.research.google.com/assets/colab-badge.svg\" alt=\"Open In Colab\"/></a>"
      ]
    },
    {
      "cell_type": "markdown",
      "source": [
        "## Câu 1"
      ],
      "metadata": {
        "id": "gykndRbmu7mM"
      }
    },
    {
      "cell_type": "code",
      "execution_count": 1,
      "metadata": {
        "id": "6OpnkDZJsN0a",
        "colab": {
          "base_uri": "https://localhost:8080/"
        },
        "outputId": "3c9d1dce-5260-411c-b846-c5c3b5c898b4"
      },
      "outputs": [
        {
          "output_type": "stream",
          "name": "stdout",
          "text": [
            "(12, 45, -1, -0.56, 'abc', True)\n"
          ]
        }
      ],
      "source": [
        "t=(12,45,-1,-0.56,\"abc\",True)\n",
        "print(t)"
      ]
    },
    {
      "cell_type": "markdown",
      "source": [
        "## Câu 2"
      ],
      "metadata": {
        "id": "uesq3PFZwQQJ"
      }
    },
    {
      "cell_type": "code",
      "source": [
        "print(t)"
      ],
      "metadata": {
        "colab": {
          "base_uri": "https://localhost:8080/"
        },
        "id": "OQ6HQJ00wRua",
        "outputId": "e0c48b7f-1be0-45ac-ef36-733ee0fecb9c"
      },
      "execution_count": 2,
      "outputs": [
        {
          "output_type": "stream",
          "name": "stdout",
          "text": [
            "(12, 45, -1, -0.56, 'abc', True)\n"
          ]
        }
      ]
    },
    {
      "cell_type": "markdown",
      "source": [
        "## Câu 3"
      ],
      "metadata": {
        "id": "NnQ3ENtmwVhd"
      }
    },
    {
      "cell_type": "code",
      "source": [
        "print(t[0])\n",
        "print(t[5])"
      ],
      "metadata": {
        "colab": {
          "base_uri": "https://localhost:8080/"
        },
        "id": "NJJ9WNS-wXhL",
        "outputId": "d7115333-dc51-474c-f68e-a268269e5f34"
      },
      "execution_count": 9,
      "outputs": [
        {
          "output_type": "stream",
          "name": "stdout",
          "text": [
            "12\n",
            "True\n"
          ]
        }
      ]
    },
    {
      "cell_type": "markdown",
      "source": [
        "## Câu 4"
      ],
      "metadata": {
        "id": "3IJ13OVsw0tP"
      }
    },
    {
      "cell_type": "code",
      "source": [
        "print(t[0:4])"
      ],
      "metadata": {
        "colab": {
          "base_uri": "https://localhost:8080/"
        },
        "id": "YzHKtrYNw2hr",
        "outputId": "6b14fcee-85a8-409f-cb12-5afe4fd3d841"
      },
      "execution_count": 11,
      "outputs": [
        {
          "output_type": "execute_result",
          "data": {
            "text/plain": [
              "(12, 45, -1, -0.56)"
            ]
          },
          "metadata": {},
          "execution_count": 11
        }
      ]
    },
    {
      "cell_type": "markdown",
      "source": [
        "## Câu 5"
      ],
      "metadata": {
        "id": "mX4VaMbSw7x0"
      }
    },
    {
      "cell_type": "code",
      "source": [
        "t[2:6]"
      ],
      "metadata": {
        "colab": {
          "base_uri": "https://localhost:8080/"
        },
        "id": "K4Nfq_VQw92Q",
        "outputId": "a7e36774-a89c-400d-ba2d-5efdd416f148"
      },
      "execution_count": 18,
      "outputs": [
        {
          "output_type": "execute_result",
          "data": {
            "text/plain": [
              "(-1, -0.56, 'abc', True)"
            ]
          },
          "metadata": {},
          "execution_count": 18
        }
      ]
    },
    {
      "cell_type": "markdown",
      "source": [
        "## Câu 6"
      ],
      "metadata": {
        "id": "l1Th0K0JxXk2"
      }
    },
    {
      "cell_type": "code",
      "source": [
        "list(t)"
      ],
      "metadata": {
        "colab": {
          "base_uri": "https://localhost:8080/"
        },
        "id": "qYOfM5FsxZ5u",
        "outputId": "571d496b-3ff0-4dff-ca8f-44fb2e2d479e"
      },
      "execution_count": 15,
      "outputs": [
        {
          "output_type": "execute_result",
          "data": {
            "text/plain": [
              "[12, 45, -1, -0.56, 'abc', True]"
            ]
          },
          "metadata": {},
          "execution_count": 15
        }
      ]
    }
  ]
}