{
  "nbformat": 4,
  "nbformat_minor": 0,
  "metadata": {
    "colab": {
      "provenance": [],
      "authorship_tag": "ABX9TyM5OykRYrp7m4kU7xisNfWi",
      "include_colab_link": true
    },
    "kernelspec": {
      "name": "python3",
      "display_name": "Python 3"
    },
    "language_info": {
      "name": "python"
    }
  },
  "cells": [
    {
      "cell_type": "markdown",
      "metadata": {
        "id": "view-in-github",
        "colab_type": "text"
      },
      "source": [
        "<a href=\"https://colab.research.google.com/github/tuannguyen1291/BT_t_l_list/blob/main/C%E1%BA%A5u_tr%C3%BAc_set.ipynb\" target=\"_parent\"><img src=\"https://colab.research.google.com/assets/colab-badge.svg\" alt=\"Open In Colab\"/></a>"
      ]
    },
    {
      "cell_type": "markdown",
      "source": [
        "## Câu 1:"
      ],
      "metadata": {
        "id": "GwpcWQsgyZ4A"
      }
    },
    {
      "cell_type": "code",
      "execution_count": 2,
      "metadata": {
        "colab": {
          "base_uri": "https://localhost:8080/"
        },
        "id": "lA99X-PEx7zK",
        "outputId": "68fd9cb4-c3d0-461e-fc30-a11ec0ba201f"
      },
      "outputs": [
        {
          "output_type": "stream",
          "name": "stdout",
          "text": [
            "{'NNLT Python', 'Thể dục', 'Tiếng Anh chuyên ngành', 'Đại số tuyến tính'}\n",
            "{'Học sâu', 'Natural Language Processing', 'Computer vision', 'Recommender Systems', 'Học Máy', 'NNLT Python', 'Đại số tuyến tính', 'Tối ưu hóa'}\n"
          ]
        }
      ],
      "source": [
        "A = { \"NNLT Python\",\"Đại số tuyến tính\",\"Tiếng Anh chuyên ngành\",\"Thể dục\"}\n",
        "B = { \"NNLT Python\",\"Đại số tuyến tính\",\"Tối ưu hóa\",\"Học Máy\",\"Học sâu\",\"Computer vision\",\"Natural Language Processing\",\"Recommender Systems\"}\n",
        "print(A)\n",
        "print(B)"
      ]
    },
    {
      "cell_type": "markdown",
      "source": [
        "## Câu 2:"
      ],
      "metadata": {
        "id": "vSXnFbpAy3aN"
      }
    },
    {
      "cell_type": "code",
      "source": [
        "print(A)\n",
        "print(B)"
      ],
      "metadata": {
        "colab": {
          "base_uri": "https://localhost:8080/"
        },
        "id": "B-1di6lOy5Bn",
        "outputId": "26a0758a-1a6c-48eb-dbfd-baf7ad3298c0"
      },
      "execution_count": 3,
      "outputs": [
        {
          "output_type": "stream",
          "name": "stdout",
          "text": [
            "{'NNLT Python', 'Thể dục', 'Tiếng Anh chuyên ngành', 'Đại số tuyến tính'}\n",
            "{'Học sâu', 'Natural Language Processing', 'Computer vision', 'Recommender Systems', 'Học Máy', 'NNLT Python', 'Đại số tuyến tính', 'Tối ưu hóa'}\n"
          ]
        }
      ]
    },
    {
      "cell_type": "markdown",
      "source": [
        "## Câu 3:"
      ],
      "metadata": {
        "id": "qJlEiYwhhRyc"
      }
    },
    {
      "cell_type": "code",
      "source": [
        "y=A|B\n",
        "print(y)"
      ],
      "metadata": {
        "colab": {
          "base_uri": "https://localhost:8080/"
        },
        "id": "gdT1VeFThW9p",
        "outputId": "fa704916-8ab7-4231-8a03-60d2547ccc30"
      },
      "execution_count": 4,
      "outputs": [
        {
          "output_type": "stream",
          "name": "stdout",
          "text": [
            "{'Học sâu', 'Natural Language Processing', 'Tiếng Anh chuyên ngành', 'Computer vision', 'Recommender Systems', 'Học Máy', 'Thể dục', 'NNLT Python', 'Đại số tuyến tính', 'Tối ưu hóa'}\n"
          ]
        }
      ]
    },
    {
      "cell_type": "markdown",
      "source": [
        "Câu 4:"
      ],
      "metadata": {
        "id": "knFG7mDXlDy6"
      }
    },
    {
      "cell_type": "code",
      "source": [
        "x=A&B\n",
        "print(x)"
      ],
      "metadata": {
        "colab": {
          "base_uri": "https://localhost:8080/"
        },
        "id": "2G5rhlNolEDC",
        "outputId": "1c1a014d-e211-400a-8e10-5e240196a3af"
      },
      "execution_count": 5,
      "outputs": [
        {
          "output_type": "stream",
          "name": "stdout",
          "text": [
            "{'NNLT Python', 'Đại số tuyến tính'}\n"
          ]
        }
      ]
    },
    {
      "cell_type": "markdown",
      "source": [
        "##Câu 5:"
      ],
      "metadata": {
        "id": "ylwWwce-p2kW"
      }
    },
    {
      "cell_type": "code",
      "source": [
        "X=A-B\n",
        "Y=B-A\n",
        "print(X)\n",
        "print(Y)"
      ],
      "metadata": {
        "colab": {
          "base_uri": "https://localhost:8080/"
        },
        "id": "u8Yn0OF5p4Tr",
        "outputId": "2c8d1718-5e07-4687-976f-f190ba68fc35"
      },
      "execution_count": 6,
      "outputs": [
        {
          "output_type": "stream",
          "name": "stdout",
          "text": [
            "{'Tiếng Anh chuyên ngành', 'Thể dục'}\n",
            "{'Học sâu', 'Natural Language Processing', 'Computer vision', 'Recommender Systems', 'Học Máy', 'Tối ưu hóa'}\n"
          ]
        }
      ]
    },
    {
      "cell_type": "markdown",
      "source": [
        "## Câu 6:"
      ],
      "metadata": {
        "id": "zbVMW47jrBwb"
      }
    },
    {
      "cell_type": "code",
      "source": [
        "x = [1, 1, 1, 2, 2, 3, 3 ,3, 4 ,5 ,6, 7]\n",
        "print(x)"
      ],
      "metadata": {
        "colab": {
          "base_uri": "https://localhost:8080/"
        },
        "id": "2L1zZblqrG58",
        "outputId": "0ef8d726-87ff-4c51-8f9a-2bb0285fa755"
      },
      "execution_count": 7,
      "outputs": [
        {
          "output_type": "stream",
          "name": "stdout",
          "text": [
            "[1, 1, 1, 2, 2, 3, 3, 3, 4, 5, 6, 7]\n"
          ]
        }
      ]
    },
    {
      "cell_type": "code",
      "source": [
        "x = [1, 1, 1, 2, 2, 3, 3 ,3, 4 ,5 ,6, 7]\n",
        "print(set(x))"
      ],
      "metadata": {
        "colab": {
          "base_uri": "https://localhost:8080/"
        },
        "id": "caJt01ltrLa4",
        "outputId": "8e732aae-4226-43fc-a98a-c7be73119ba9"
      },
      "execution_count": 11,
      "outputs": [
        {
          "output_type": "stream",
          "name": "stdout",
          "text": [
            "{1, 2, 3, 4, 5, 6, 7}\n"
          ]
        }
      ]
    }
  ]
}